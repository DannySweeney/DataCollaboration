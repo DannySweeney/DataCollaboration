{
 "nbformat": 4,
 "nbformat_minor": 2,
 "metadata": {
  "language_info": {
   "name": "python",
   "codemirror_mode": {
    "name": "ipython",
    "version": 3
   },
   "version": "3.7.4-final"
  },
  "orig_nbformat": 2,
  "file_extension": ".py",
  "mimetype": "text/x-python",
  "name": "python",
  "npconvert_exporter": "python",
  "pygments_lexer": "ipython3",
  "version": 3,
  "kernelspec": {
   "name": "python3",
   "display_name": "Python 3"
  }
 },
 "cells": [
  {
   "cell_type": "code",
   "execution_count": 4,
   "metadata": {},
   "outputs": [],
   "source": [
    "import pandas as pd\n",
    "df = pd.read_csv('/Users/danny/Downloads/Inpatient_Prospective_Payment_System__IPPS__Provider_Summary_for_the_Top_100_Diagnosis-Related_Groups__DRG__-_FY2011.csv', dtype = str)"
   ]
  },
  {
   "cell_type": "code",
   "execution_count": 3,
   "metadata": {},
   "outputs": [
    {
     "output_type": "execute_result",
     "data": {
      "text/plain": "                             DRG Definition Provider Id  \\\n0  039 - EXTRACRANIAL PROCEDURES W/O CC/MCC       10001   \n1  039 - EXTRACRANIAL PROCEDURES W/O CC/MCC       10005   \n2  039 - EXTRACRANIAL PROCEDURES W/O CC/MCC       10006   \n3  039 - EXTRACRANIAL PROCEDURES W/O CC/MCC       10011   \n4  039 - EXTRACRANIAL PROCEDURES W/O CC/MCC       10016   \n\n                      Provider Name     Provider Street Address Provider City  \\\n0  SOUTHEAST ALABAMA MEDICAL CENTER      1108 ROSS CLARK CIRCLE        DOTHAN   \n1     MARSHALL MEDICAL CENTER SOUTH  2505 U S HIGHWAY 431 NORTH          BOAZ   \n2    ELIZA COFFEE MEMORIAL HOSPITAL          205 MARENGO STREET      FLORENCE   \n3                 ST VINCENT'S EAST  50 MEDICAL PARK EAST DRIVE    BIRMINGHAM   \n4     SHELBY BAPTIST MEDICAL CENTER     1000 FIRST STREET NORTH     ALABASTER   \n\n  Provider State Provider Zip Code Hospital Referral Region Description  \\\n0             AL             36301                          AL - Dothan   \n1             AL             35957                      AL - Birmingham   \n2             AL             35631                      AL - Birmingham   \n3             AL             35235                      AL - Birmingham   \n4             AL             35007                      AL - Birmingham   \n\n   Total Discharges   Average Covered Charges   Average Total Payments   \\\n0                 91                 32,963.07                 5,777.24   \n1                 14                 15,131.85                 5,787.57   \n2                 24                 37,560.37                 5,434.95   \n3                 25                 13,998.28                 5,417.56   \n4                 18                 31,633.27                 5,658.33   \n\n  Average Medicare Payments  \n0                  4,763.73  \n1                  4,976.71  \n2                  4,453.79  \n3                  4,129.16  \n4                  4,851.44  ",
      "text/html": "<div>\n<style scoped>\n    .dataframe tbody tr th:only-of-type {\n        vertical-align: middle;\n    }\n\n    .dataframe tbody tr th {\n        vertical-align: top;\n    }\n\n    .dataframe thead th {\n        text-align: right;\n    }\n</style>\n<table border=\"1\" class=\"dataframe\">\n  <thead>\n    <tr style=\"text-align: right;\">\n      <th></th>\n      <th>DRG Definition</th>\n      <th>Provider Id</th>\n      <th>Provider Name</th>\n      <th>Provider Street Address</th>\n      <th>Provider City</th>\n      <th>Provider State</th>\n      <th>Provider Zip Code</th>\n      <th>Hospital Referral Region Description</th>\n      <th>Total Discharges</th>\n      <th>Average Covered Charges</th>\n      <th>Average Total Payments</th>\n      <th>Average Medicare Payments</th>\n    </tr>\n  </thead>\n  <tbody>\n    <tr>\n      <td>0</td>\n      <td>039 - EXTRACRANIAL PROCEDURES W/O CC/MCC</td>\n      <td>10001</td>\n      <td>SOUTHEAST ALABAMA MEDICAL CENTER</td>\n      <td>1108 ROSS CLARK CIRCLE</td>\n      <td>DOTHAN</td>\n      <td>AL</td>\n      <td>36301</td>\n      <td>AL - Dothan</td>\n      <td>91</td>\n      <td>32,963.07</td>\n      <td>5,777.24</td>\n      <td>4,763.73</td>\n    </tr>\n    <tr>\n      <td>1</td>\n      <td>039 - EXTRACRANIAL PROCEDURES W/O CC/MCC</td>\n      <td>10005</td>\n      <td>MARSHALL MEDICAL CENTER SOUTH</td>\n      <td>2505 U S HIGHWAY 431 NORTH</td>\n      <td>BOAZ</td>\n      <td>AL</td>\n      <td>35957</td>\n      <td>AL - Birmingham</td>\n      <td>14</td>\n      <td>15,131.85</td>\n      <td>5,787.57</td>\n      <td>4,976.71</td>\n    </tr>\n    <tr>\n      <td>2</td>\n      <td>039 - EXTRACRANIAL PROCEDURES W/O CC/MCC</td>\n      <td>10006</td>\n      <td>ELIZA COFFEE MEMORIAL HOSPITAL</td>\n      <td>205 MARENGO STREET</td>\n      <td>FLORENCE</td>\n      <td>AL</td>\n      <td>35631</td>\n      <td>AL - Birmingham</td>\n      <td>24</td>\n      <td>37,560.37</td>\n      <td>5,434.95</td>\n      <td>4,453.79</td>\n    </tr>\n    <tr>\n      <td>3</td>\n      <td>039 - EXTRACRANIAL PROCEDURES W/O CC/MCC</td>\n      <td>10011</td>\n      <td>ST VINCENT'S EAST</td>\n      <td>50 MEDICAL PARK EAST DRIVE</td>\n      <td>BIRMINGHAM</td>\n      <td>AL</td>\n      <td>35235</td>\n      <td>AL - Birmingham</td>\n      <td>25</td>\n      <td>13,998.28</td>\n      <td>5,417.56</td>\n      <td>4,129.16</td>\n    </tr>\n    <tr>\n      <td>4</td>\n      <td>039 - EXTRACRANIAL PROCEDURES W/O CC/MCC</td>\n      <td>10016</td>\n      <td>SHELBY BAPTIST MEDICAL CENTER</td>\n      <td>1000 FIRST STREET NORTH</td>\n      <td>ALABASTER</td>\n      <td>AL</td>\n      <td>35007</td>\n      <td>AL - Birmingham</td>\n      <td>18</td>\n      <td>31,633.27</td>\n      <td>5,658.33</td>\n      <td>4,851.44</td>\n    </tr>\n  </tbody>\n</table>\n</div>"
     },
     "metadata": {},
     "execution_count": 3
    }
   ],
   "source": [
    "df.head()"
   ]
  },
  {
   "cell_type": "code",
   "execution_count": null,
   "metadata": {},
   "outputs": [],
   "source": []
  }
 ]
}